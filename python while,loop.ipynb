{
 "cells": [
  {
   "cell_type": "markdown",
   "id": "4059c792-bd24-4a0f-8c65-4fdf175ac0ed",
   "metadata": {},
   "source": [
    "Print nmber from 1 to 5 uing a while loop."
   ]
  },
  {
   "cell_type": "code",
   "execution_count": 2,
   "id": "d6c99be6-7a13-4ee9-a7d0-4a7d1c42d2de",
   "metadata": {},
   "outputs": [
    {
     "name": "stdout",
     "output_type": "stream",
     "text": [
      "1\n",
      "2\n",
      "3\n",
      "4\n",
      "5\n"
     ]
    }
   ],
   "source": [
    "i = 1\n",
    "n = 5\n",
    "while i <=n:\n",
    "    print(i)\n",
    "    i = i + 1"
   ]
  },
  {
   "cell_type": "markdown",
   "id": "6ac9beeb-e5b8-4ab0-b84e-1d5fbfc34ce2",
   "metadata": {},
   "source": [
    "Calclate the m of number from 1 to 10 ing a while loop."
   ]
  },
  {
   "cell_type": "code",
   "execution_count": 3,
   "id": "ea01fd9e-ab67-41e7-a017-97efe748c9d7",
   "metadata": {},
   "outputs": [
    {
     "name": "stdout",
     "output_type": "stream",
     "text": [
      "The sum of numbers from 1 to 10 is: 55\n"
     ]
    }
   ],
   "source": [
    "# Initialize variables\n",
    "number = 1\n",
    "sum_of_numbers = 0\n",
    "\n",
    "# Use a while loop to calculate the sum of numbers from 1 to 10\n",
    "while number <= 10:\n",
    "    sum_of_numbers += number\n",
    "    number += 1\n",
    "\n",
    "# Print the result\n",
    "print(\"The sum of numbers from 1 to 10 is:\", sum_of_numbers)"
   ]
  },
  {
   "cell_type": "markdown",
   "id": "4f78b332-767f-4c91-b648-1eff90e636fe",
   "metadata": {},
   "source": [
    "Calclate the factorial of a number ing a for loop."
   ]
  },
  {
   "cell_type": "code",
   "execution_count": 6,
   "id": "6a3d3a62-5969-4592-bf45-23198752566d",
   "metadata": {},
   "outputs": [
    {
     "name": "stdout",
     "output_type": "stream",
     "text": [
      "Factorial of 5 is: 120\n"
     ]
    }
   ],
   "source": [
    "# Function to calculate factorial\n",
    "def factorial(n):\n",
    "    # Initialize the result to 1\n",
    "    result = 1\n",
    "    # Iterate from 1 to n (inclusive) using a for loop\n",
    "    for i in range(1, n + 1):\n",
    "        # Multiply result by the current value of i\n",
    "        result *= i\n",
    "    # Return the final result\n",
    "    return result\n",
    "\n",
    "# Example usage:\n",
    "number = 5\n",
    "print(\"Factorial of\", number, \"is:\", factorial(number))"
   ]
  },
  {
   "cell_type": "markdown",
   "id": "fd3d0ff6-9465-4aa3-83c4-a4de605a4c58",
   "metadata": {},
   "source": [
    "Cont the number of vowel in a string using a for loop."
   ]
  },
  {
   "cell_type": "code",
   "execution_count": 8,
   "id": "1f2b0f62-0c72-417e-853f-31dfb2cdb1da",
   "metadata": {},
   "outputs": [
    {
     "name": "stdout",
     "output_type": "stream",
     "text": [
      "Number of vowels in the string: 3\n"
     ]
    }
   ],
   "source": [
    "# Function to count vowels in a string\n",
    "def count_vowels(input_string):\n",
    "    # Define a variable to store the count of vowels\n",
    "    vowel_count = 0\n",
    "    # Define a set of vowels\n",
    "    vowels = {'a', 'e', 'i', 'o', 'u'}\n",
    "\n",
    "    # Convert the input string to lowercase to make it case-insensitive\n",
    "    input_string = input_string.lower()\n",
    "\n",
    "    # Iterate through each character in the string\n",
    "    for char in input_string:\n",
    "        # Check if the character is a vowel\n",
    "        if char in vowels:\n",
    "            # If it's a vowel, increment the vowel count\n",
    "            vowel_count += 1\n",
    "\n",
    "    # Return the total count of vowels\n",
    "    return vowel_count\n",
    "\n",
    "# Example usage:\n",
    "input_string = \"Hello, World!\"\n",
    "print(\"Number of vowels in the string:\", count_vowels(input_string))"
   ]
  },
  {
   "cell_type": "markdown",
   "id": "8018e51d-b8d3-47f1-988d-4e8f75a4923e",
   "metadata": {},
   "source": [
    "Print a pattern using nested loop."
   ]
  },
  {
   "cell_type": "code",
   "execution_count": 10,
   "id": "79a59cf2-bf46-4d51-8bc6-4af7f6f4e29f",
   "metadata": {},
   "outputs": [
    {
     "name": "stdout",
     "output_type": "stream",
     "text": [
      "* * * * * \n",
      "* * * * * \n",
      "* * * * * \n",
      "* * * * * \n",
      "* * * * * \n"
     ]
    }
   ],
   "source": [
    "# Define the size of the square\n",
    "size = 5\n",
    "\n",
    "# Outer loop to iterate over rows\n",
    "for i in range(size):\n",
    "    # Inner loop to iterate over columns\n",
    "    for j in range(size):\n",
    "        # Print a '*' for each column\n",
    "        print(\"*\", end=\" \")\n",
    "    # Move to the next line after printing each row\n",
    "    print()"
   ]
  },
  {
   "cell_type": "markdown",
   "id": "033e8d0a-05df-4ede-9769-ff3f5d03d6eb",
   "metadata": {},
   "source": [
    "Generate a mltiplication table using nested loop."
   ]
  },
  {
   "cell_type": "code",
   "execution_count": 11,
   "id": "e9ddf824-b2c3-4594-9d99-eb54af7ce10a",
   "metadata": {},
   "outputs": [
    {
     "name": "stdout",
     "output_type": "stream",
     "text": [
      "1 * 1 = 1\t1 * 2 = 2\t1 * 3 = 3\t1 * 4 = 4\t1 * 5 = 5\t1 * 6 = 6\t1 * 7 = 7\t1 * 8 = 8\t1 * 9 = 9\t1 * 10 = 10\t\n",
      "2 * 1 = 2\t2 * 2 = 4\t2 * 3 = 6\t2 * 4 = 8\t2 * 5 = 10\t2 * 6 = 12\t2 * 7 = 14\t2 * 8 = 16\t2 * 9 = 18\t2 * 10 = 20\t\n",
      "3 * 1 = 3\t3 * 2 = 6\t3 * 3 = 9\t3 * 4 = 12\t3 * 5 = 15\t3 * 6 = 18\t3 * 7 = 21\t3 * 8 = 24\t3 * 9 = 27\t3 * 10 = 30\t\n",
      "4 * 1 = 4\t4 * 2 = 8\t4 * 3 = 12\t4 * 4 = 16\t4 * 5 = 20\t4 * 6 = 24\t4 * 7 = 28\t4 * 8 = 32\t4 * 9 = 36\t4 * 10 = 40\t\n",
      "5 * 1 = 5\t5 * 2 = 10\t5 * 3 = 15\t5 * 4 = 20\t5 * 5 = 25\t5 * 6 = 30\t5 * 7 = 35\t5 * 8 = 40\t5 * 9 = 45\t5 * 10 = 50\t\n",
      "6 * 1 = 6\t6 * 2 = 12\t6 * 3 = 18\t6 * 4 = 24\t6 * 5 = 30\t6 * 6 = 36\t6 * 7 = 42\t6 * 8 = 48\t6 * 9 = 54\t6 * 10 = 60\t\n",
      "7 * 1 = 7\t7 * 2 = 14\t7 * 3 = 21\t7 * 4 = 28\t7 * 5 = 35\t7 * 6 = 42\t7 * 7 = 49\t7 * 8 = 56\t7 * 9 = 63\t7 * 10 = 70\t\n",
      "8 * 1 = 8\t8 * 2 = 16\t8 * 3 = 24\t8 * 4 = 32\t8 * 5 = 40\t8 * 6 = 48\t8 * 7 = 56\t8 * 8 = 64\t8 * 9 = 72\t8 * 10 = 80\t\n",
      "9 * 1 = 9\t9 * 2 = 18\t9 * 3 = 27\t9 * 4 = 36\t9 * 5 = 45\t9 * 6 = 54\t9 * 7 = 63\t9 * 8 = 72\t9 * 9 = 81\t9 * 10 = 90\t\n",
      "10 * 1 = 10\t10 * 2 = 20\t10 * 3 = 30\t10 * 4 = 40\t10 * 5 = 50\t10 * 6 = 60\t10 * 7 = 70\t10 * 8 = 80\t10 * 9 = 90\t10 * 10 = 100\t\n"
     ]
    }
   ],
   "source": [
    "# Define the range of the multiplication table (from 1 to 10)\n",
    "start = 1\n",
    "end = 10\n",
    "\n",
    "# Outer loop to iterate over the multiplicand\n",
    "for i in range(start, end + 1):\n",
    "    # Inner loop to iterate over the multiplier\n",
    "    for j in range(start, end + 1):\n",
    "        # Calculate the product\n",
    "        product = i * j\n",
    "        # Print the product with proper formatting\n",
    "        print(f\"{i} * {j} = {product}\", end=\"\\t\")\n",
    "    # Move to the next line after printing all products for a particular multiplicand\n",
    "    print()"
   ]
  },
  {
   "cell_type": "code",
   "execution_count": null,
   "id": "9f0685d9-e59a-49cf-8dd3-9d38f3362024",
   "metadata": {},
   "outputs": [],
   "source": []
  }
 ],
 "metadata": {
  "kernelspec": {
   "display_name": "Python 3 (ipykernel)",
   "language": "python",
   "name": "python3"
  },
  "language_info": {
   "codemirror_mode": {
    "name": "ipython",
    "version": 3
   },
   "file_extension": ".py",
   "mimetype": "text/x-python",
   "name": "python",
   "nbconvert_exporter": "python",
   "pygments_lexer": "ipython3",
   "version": "3.10.8"
  }
 },
 "nbformat": 4,
 "nbformat_minor": 5
}
